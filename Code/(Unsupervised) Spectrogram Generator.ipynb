{
 "cells": [
  {
   "cell_type": "code",
   "execution_count": null,
   "id": "8cfd003f",
   "metadata": {},
   "outputs": [],
   "source": [
    "import torch"
   ]
  },
  {
   "cell_type": "code",
   "execution_count": 11,
   "id": "ade95c4d",
   "metadata": {},
   "outputs": [],
   "source": [
    "import numpy as np\n",
    "import pandas as pd\n",
    "import os\n",
    "from scipy.io import wavfile\n",
    "from scipy.signal import stft\n",
    "from keras.models import Sequential\n",
    "from keras.layers import Conv2D, MaxPooling2D, Flatten, Dense\n",
    "from keras.optimizers import Adam\n",
    "from sklearn.model_selection import train_test_split\n",
    "import matplotlib.pyplot as plt\n",
    "from tensorflow import keras\n",
    "import librosa as lr\n",
    "from spafe.features.gfcc import gfcc\n",
    "from sklearn.preprocessing import StandardScaler\n",
    "import time\n",
    "import torch\n",
    "import torch.nn as nn\n",
    "from torchvision.models import resnet50\n",
    "from PIL import Image\n",
    "import io\n",
    "from tqdm import tqdm\n",
    "import time\n",
    "from spafe.features.gfcc import gfcc"
   ]
  },
  {
   "cell_type": "code",
   "execution_count": null,
   "id": "46dd9a3d",
   "metadata": {},
   "outputs": [],
   "source": [
    "def get_spectrogram_as_image(mel_spec_segment,output_path,sample_rate):\n",
    "    plt.figure(figsize=(3, 3))\n",
    "    lr.display.specshow(mel_spec_segment, x_axis='time', y_axis='mel', sr=sample_rate, hop_length=512, cmap='viridis')\n",
    "    plt.axis('off')\n",
    "    plt.tight_layout()\n",
    "\n",
    "    # Save the plot to a BytesIO object\n",
    "    img_buf = io.BytesIO()\n",
    "    plt.savefig(img_buf, format='png')\n",
    "    img_buf.seek(0)\n",
    "    plt.close()\n",
    "\n",
    "    # Create a PIL Image object from the BytesIO buffer\n",
    "    img = Image.open(img_buf)\n",
    "    height, width = img.size\n",
    "    left=width/20.6\n",
    "    top=height/20.6\n",
    "    right=width-left\n",
    "    bottom=height-top\n",
    "    img=img.crop((left, top, right, bottom))\n",
    "    img.save(output_path)"
   ]
  },
  {
   "cell_type": "code",
   "execution_count": null,
   "id": "798b4fe2",
   "metadata": {},
   "outputs": [],
   "source": [
    "def mel_segment(input_path,output_path):\n",
    "    wav_files_no = os.listdir(input_path)\n",
    "    for file_name in tqdm(wav_files_no,desc=\"Processing\"):\n",
    "        time.sleep(0.1)\n",
    "        audio_data, sample_rate = lr.load(os.path.join(input_path,file_name))\n",
    "        mel_spectrogram = lr.feature.melspectrogram(y=audio_data, sr= sample_rate, n_fft=1024, hop_length=256, n_mels=64, power=2)\n",
    "        mel_spec_db = lr.power_to_db(mel_spectrogram, ref=np.max)\n",
    "        \n",
    "        \n",
    "        segment_hop_length = 86\n",
    "        num_segments = int((mel_spec_db.shape[1] - segment_hop_length) / segment_hop_length)\n",
    "        for i in range(num_segments):\n",
    "            start_idx = i * segment_hop_length\n",
    "            end_idx = start_idx + 2*segment_hop_length\n",
    "            mel_spec_segment = mel_spec_db[:, start_idx:end_idx]\n",
    "            file_output=file_name.split('.')[0]+\"({})\".format(i)+\".png\"\n",
    "            print(file_output)\n",
    "            save_point=os.path.join(output_path,file_output)\n",
    "            get_spectrogram_as_image(mel_spec_segment,save_point,sample_rate)"
   ]
  },
  {
   "cell_type": "code",
   "execution_count": null,
   "id": "8d35797e",
   "metadata": {},
   "outputs": [],
   "source": [
    "drive=[\"E:\\\\\",\"F:\\\\\"]\n",
    "# folders=[\"0_dB_fan\\\\fan\",\"6_dB_fan\\\\fan\",\"-6_dB_fan\\\\fan\",\"0_dB_pump\\\\pump\",\"6_dB_pump\\\\pump\",\"-6_dB_pump\\\\pump\",\n",
    "#          \"0_dB_valve\\\\valve\",\"6_dB_valve\\\\valve\",\"-6_dB_valve\\\\valve\",\"0_dB_slider\\\\slider\",\"6_dB_slider\\\\slider\",\n",
    "#          \"-6_dB_slider\\\\slider\"]\n",
    "#mach_id=[\"id_00\",\"id_02\",\"id_04\",\"id_06\"]\n",
    "status=[\"normal\",\"abnormal\"]\n",
    "folders=[\"0_dB_valve\\\\valve\"]\n",
    "mach_id=[\"id_04\"]\n",
    "# status=[\"normal\"]"
   ]
  },
  {
   "cell_type": "code",
   "execution_count": null,
   "id": "eb9392a5",
   "metadata": {
    "scrolled": false
   },
   "outputs": [],
   "source": [
    "for fold in folders:\n",
    "    for m_id in mach_id:\n",
    "        for st in status:\n",
    "            input_path=os.path.join(drive[0]+fold,m_id,st)\n",
    "            output_path=os.path.join(drive[1]+fold,m_id,st)\n",
    "            mel_segment(input_path,output_path)"
   ]
  },
  {
   "cell_type": "code",
   "execution_count": null,
   "id": "9e4aba90",
   "metadata": {},
   "outputs": [],
   "source": [
    "file_path=\"E:\\\\0_dB_fan\\\\fan\\\\id_00\\\\abnormal\\\\00000000.wav\"\n",
    "y, sr = lr.load(file_path, sr=None)\n",
    "D = lr.amplitude_to_db(lr.stft(y), ref=np.max)\n",
    "\n",
    "# Plot the STFT\n",
    "plt.figure(figsize=(12, 4))\n",
    "lr.display.specshow(D, sr=sr, x_axis='time', y_axis='log')\n",
    "plt.colorbar(format='%+2.0f dB')\n",
    "plt.title('STFT of {}'.format(file_path))\n",
    "plt.show()"
   ]
  },
  {
   "cell_type": "code",
   "execution_count": null,
   "id": "f7ecf9a6",
   "metadata": {},
   "outputs": [],
   "source": [
    "file_path=\"E:\\\\0_dB_fan\\\\fan\\\\id_00\\\\normal\\\\00000000.wav\"\n",
    "y, sr = lr.load(file_path, sr=None)\n",
    "D = lr.amplitude_to_db(lr.stft(y), ref=np.max)\n",
    "\n",
    "# Plot the STFT\n",
    "plt.figure(figsize=(12, 4))\n",
    "lr.display.specshow(D, sr=sr, x_axis='time', y_axis='log')\n",
    "#plt.colorbar(format='%+2.0f dB')\n",
    "#plt.title('STFT of {}'.format(file_path))\n",
    "plt.axis('off')\n",
    "plt.show()"
   ]
  },
  {
   "cell_type": "code",
   "execution_count": null,
   "id": "d4c1aede",
   "metadata": {},
   "outputs": [],
   "source": [
    "def get_STFT_spectrogram(input_path,output_path):\n",
    "    y, sr = lr.load(input_path, sr=None)\n",
    "    D = lr.amplitude_to_db(lr.stft(y), ref=np.max)\n",
    "    plt.figure(figsize=(12, 4))\n",
    "    lr.display.specshow(D, sr=sr, x_axis='time', y_axis='log')\n",
    "    plt.axis('off')\n",
    "    plt.savefig(output_path,format='jpeg')\n",
    "    plt.close()\n",
    "    img = Image.open(output_path)\n",
    "    height, width = img.size\n",
    "    left=height/10.041\n",
    "    top=width/9.195\n",
    "    right=height-left\n",
    "    left=left+30\n",
    "    bottom=width-top\n",
    "    top=top+4\n",
    "    img=img.crop((left, top, right, bottom))\n",
    "    img.save(output_path)"
   ]
  },
  {
   "cell_type": "code",
   "execution_count": null,
   "id": "5e43d85d",
   "metadata": {},
   "outputs": [],
   "source": [
    "input_loc=\"E:\\\\0_dB_fan\\\\valve\\\\id_06\\\\\"\n",
    "output_loc=\"F:\\\\STFT\\\\-6_dB_valve\\\\id_06\\\\\"\n",
    "input_loc_nor=input_loc+\"normal\\\\\"\n",
    "input_loc_abnor=input_loc+\"abnormal\\\\\"\n",
    "output_loc_nor=output_loc+\"normal\\\\\"\n",
    "output_loc_abnor=output_loc+\"abnormal\\\\\""
   ]
  },
  {
   "cell_type": "code",
   "execution_count": null,
   "id": "e84c14e1",
   "metadata": {},
   "outputs": [],
   "source": [
    "for file_name in tqdm(os.listdir(input_loc_nor),desc=\"Processing\"):\n",
    "    time.sleep(0.01)\n",
    "    save_point=output_loc_nor+file_name.split(\".\")[0]+\".jpg\"\n",
    "    get_STFT_spectrogram(os.path.join(input_loc_nor,file_name),save_point)\n",
    "for file_name in tqdm(os.listdir(input_loc_abnor),desc=\"Processing\"):\n",
    "    time.sleep(0.01)\n",
    "    save_point=output_loc_abnor+file_name.split(\".\")[0]+\".jpg\"\n",
    "    get_STFT_spectrogram(os.path.join(input_loc_abnor,file_name),save_point)"
   ]
  },
  {
   "cell_type": "code",
   "execution_count": null,
   "id": "2bdcaf76",
   "metadata": {},
   "outputs": [],
   "source": [
    "input_tag=[\"0_dB_fan\\\\fan\\\\\",\"6_dB_fan\\\\fan\\\\\",\"-6_dB_fan\\\\fan\\\\\",\"0_dB_valve\\\\valve\\\\\",\n",
    "          \"6_dB_valve\\\\valve\\\\\",\"-6_dB_valve\\\\valve\\\\\",\"0_dB_slider\\\\slider\\\\\",\"6_dB_slider\\\\slider\\\\\",\n",
    "          \"-6_dB_slider\\\\slider\\\\\",\"0_dB_pump\\\\pump\\\\\",\"6_dB_pump\\\\pump\\\\\",\"-6_dB_pump\\\\pump\\\\\"]\n",
    "id_no=[\"id_00\\\\\",\"id_02\\\\\",\"id_04\\\\\",\"id_06\\\\\"]\n",
    "output_tag=[\"0_dB_fan\\\\\",\"6_dB_fan\\\\\",\"-6_dB_fan\\\\\",\"0_dB_valve\\\\\",\"6_dB_valve\\\\\",\"-6_dB_valve\\\\\",\"0_dB_slider\\\\\",\n",
    "           \"6_dB_slider\\\\\",\"-6_dB_slider\\\\\",\"0_dB_pump\\\\\",\"6_dB_pump\\\\\",\"-6_dB_pump\\\\\",]\n",
    "direc_inp=[]\n",
    "for inp in input_tag:\n",
    "    for mac in id_no:\n",
    "        direc_inp.append(\"E:\\\\\"+inp+mac)\n",
    "direc_out=[]\n",
    "for out in output_tag:\n",
    "    for mac in id_no:\n",
    "        direc_out.append(\"F:\\\\STFT\\\\\"+out+mac)"
   ]
  },
  {
   "cell_type": "code",
   "execution_count": null,
   "id": "624211aa",
   "metadata": {},
   "outputs": [],
   "source": [
    "def read_sound_files(input_loc,output_loc):\n",
    "    input_loc_nor=input_loc+\"normal\\\\\"\n",
    "    input_loc_abnor=input_loc+\"abnormal\\\\\"\n",
    "    output_loc_nor=output_loc+\"normal\\\\\"\n",
    "    output_loc_abnor=output_loc+\"abnormal\\\\\"\n",
    "    for file_name in tqdm(os.listdir(input_loc_nor),desc=\"Processing\"):\n",
    "        time.sleep(0.01)\n",
    "        save_point=output_loc_nor+file_name.split(\".\")[0]+\".jpg\"\n",
    "        get_STFT_spectrogram(os.path.join(input_loc_nor,file_name),save_point)\n",
    "    for file_name in tqdm(os.listdir(input_loc_abnor),desc=\"Processing\"):\n",
    "        time.sleep(0.01)\n",
    "        save_point=output_loc_abnor+file_name.split(\".\")[0]+\".jpg\"\n",
    "        get_STFT_spectrogram(os.path.join(input_loc_abnor,file_name),save_point)"
   ]
  },
  {
   "cell_type": "code",
   "execution_count": null,
   "id": "fae0435e",
   "metadata": {},
   "outputs": [],
   "source": [
    "for i in range(len(direc_out)-1):\n",
    "    read_sound_files(direc_inp[i+1],direc_out[i+1])"
   ]
  },
  {
   "cell_type": "code",
   "execution_count": null,
   "id": "e1f09240",
   "metadata": {},
   "outputs": [],
   "source": [
    "def read_sound_files_MFCC(input_loc,output_loc):\n",
    "    input_loc_nor=input_loc+\"normal\\\\\"\n",
    "    input_loc_abnor=input_loc+\"abnormal\\\\\"\n",
    "    output_loc_nor=output_loc+\"normal\\\\\"\n",
    "    output_loc_abnor=output_loc+\"abnormal\\\\\"\n",
    "    for file_name in tqdm(os.listdir(input_loc_nor),desc=\"Processing\"):\n",
    "        time.sleep(0.01)\n",
    "        save_point=output_loc_nor+file_name.split(\".\")[0]+\".jpg\"\n",
    "        get_MFCC_spectrogram(os.path.join(input_loc_nor,file_name),save_point)\n",
    "    for file_name in tqdm(os.listdir(input_loc_abnor),desc=\"Processing\"):\n",
    "        time.sleep(0.01)\n",
    "        save_point=output_loc_abnor+file_name.split(\".\")[0]+\".jpg\"\n",
    "        get_MFCC_spectrogram(os.path.join(input_loc_abnor,file_name),save_point)"
   ]
  },
  {
   "cell_type": "code",
   "execution_count": null,
   "id": "649904c0",
   "metadata": {},
   "outputs": [],
   "source": [
    "def get_MFCC_spectrogram(input_path,output_path):\n",
    "    y, sr = lr.load(input_path, sr=None)\n",
    "    mfccs = lr.feature.mfcc(y=y, sr=sr, n_mfcc=200)\n",
    "    plt.figure(figsize=(12, 4))\n",
    "    lr.display.specshow(mfccs, x_axis='time', sr=sr, cmap='viridis', hop_length=512)\n",
    "    plt.axis('off')\n",
    "    plt.savefig(output_path,format='jpeg')\n",
    "    plt.close()\n",
    "    img = Image.open(output_path)\n",
    "    height, width = img.size\n",
    "    left=height/10.041\n",
    "    top=width/9.195\n",
    "    right=height-left\n",
    "    left=left+30\n",
    "    bottom=width-top\n",
    "    top=top+4\n",
    "    img=img.crop((left, top, right, bottom))\n",
    "    img.save(output_path)"
   ]
  },
  {
   "cell_type": "code",
   "execution_count": null,
   "id": "0a6f05ad",
   "metadata": {},
   "outputs": [],
   "source": [
    "input_tag=[\"0_dB_fan\\\\fan\\\\\",\"6_dB_fan\\\\fan\\\\\",\"-6_dB_fan\\\\fan\\\\\",\"0_dB_valve\\\\valve\\\\\",\n",
    "          \"6_dB_valve\\\\valve\\\\\",\"-6_dB_valve\\\\valve\\\\\",\"0_dB_slider\\\\slider\\\\\",\"6_dB_slider\\\\slider\\\\\",\n",
    "          \"-6_dB_slider\\\\slider\\\\\",\"0_dB_pump\\\\pump\\\\\",\"6_dB_pump\\\\pump\\\\\",\"-6_dB_pump\\\\pump\\\\\"]\n",
    "id_no=[\"id_00\\\\\",\"id_02\\\\\",\"id_04\\\\\",\"id_06\\\\\"]\n",
    "output_tag=[\"0_dB_fan\\\\\",\"6_dB_fan\\\\\",\"-6_dB_fan\\\\\",\"0_dB_valve\\\\\",\"6_dB_valve\\\\\",\"-6_dB_valve\\\\\",\"0_dB_slider\\\\\",\n",
    "           \"6_dB_slider\\\\\",\"-6_dB_slider\\\\\",\"0_dB_pump\\\\\",\"6_dB_pump\\\\\",\"-6_dB_pump\\\\\",]\n",
    "direc_inp=[]\n",
    "for inp in input_tag:\n",
    "    for mac in id_no:\n",
    "        direc_inp.append(\"E:\\\\\"+inp+mac)\n",
    "direc_out=[]\n",
    "for out in output_tag:\n",
    "    for mac in id_no:\n",
    "        direc_out.append(\"F:\\\\MFCC\\\\\"+out+mac)"
   ]
  },
  {
   "cell_type": "code",
   "execution_count": null,
   "id": "fdf14deb",
   "metadata": {
    "scrolled": true
   },
   "outputs": [],
   "source": [
    "for i in range(len(direc_out)-45):\n",
    "    print(\"*********************************\")\n",
    "    print(\"Iteration:{} for {}\".format(i+45,direc_out[i+45]))\n",
    "    print(\"*********************************\")\n",
    "    read_sound_files_MFCC(direc_inp[i+45],direc_out[i+45])"
   ]
  },
  {
   "cell_type": "code",
   "execution_count": 3,
   "id": "ee72cbd8",
   "metadata": {},
   "outputs": [],
   "source": [
    "def read_sound_files_GFCC(input_loc,output_loc):\n",
    "    input_loc_nor=input_loc+\"normal\\\\\"\n",
    "    input_loc_abnor=input_loc+\"abnormal\\\\\"\n",
    "    output_loc_nor=output_loc+\"normal\\\\\"\n",
    "    output_loc_abnor=output_loc+\"abnormal\\\\\"\n",
    "    for file_name in tqdm(os.listdir(input_loc_nor),desc=\"Processing\"):\n",
    "        time.sleep(0.01)\n",
    "        save_point=output_loc_nor+file_name.split(\".\")[0]+\".jpg\"\n",
    "        get_GFCC_spectrogram(os.path.join(input_loc_nor,file_name),save_point)\n",
    "    for file_name in tqdm(os.listdir(input_loc_abnor),desc=\"Processing\"):\n",
    "        time.sleep(0.01)\n",
    "        save_point=output_loc_abnor+file_name.split(\".\")[0]+\".jpg\"\n",
    "        get_GFCC_spectrogram(os.path.join(input_loc_abnor,file_name),save_point)"
   ]
  },
  {
   "cell_type": "code",
   "execution_count": 4,
   "id": "e2a91a9f",
   "metadata": {},
   "outputs": [],
   "source": [
    "def get_GFCC_spectrogram(input_path,output_path):\n",
    "    y, sr = lr.load(input_path, sr=None)\n",
    "    mfccs = lr.feature.mfcc(y=y, sr=sr, n_mfcc=200)\n",
    "    gfccs = gfcc(y, fs = sr, nfilts = 200, num_ceps = 100)\n",
    "    plt.figure(figsize=(12, 4))\n",
    "    lr.display.specshow(gfccs, x_axis='time', sr=sr, cmap='viridis')\n",
    "    plt.axis('off')\n",
    "    plt.savefig(output_path,format='jpeg')\n",
    "    plt.close()\n",
    "    img = Image.open(output_path)\n",
    "    height, width = img.size\n",
    "    left=height/10.041\n",
    "    top=width/9.195\n",
    "    right=height-left\n",
    "    left=left+30\n",
    "    bottom=width-top\n",
    "    top=top+4\n",
    "    img=img.crop((left, top, right, bottom))\n",
    "    img.save(output_path)"
   ]
  },
  {
   "cell_type": "code",
   "execution_count": 5,
   "id": "11d4b0d0",
   "metadata": {},
   "outputs": [],
   "source": [
    "input_tag=[\"0_dB_fan\\\\fan\\\\\",\"6_dB_fan\\\\fan\\\\\",\"-6_dB_fan\\\\fan\\\\\",\"0_dB_valve\\\\valve\\\\\",\n",
    "          \"6_dB_valve\\\\valve\\\\\",\"-6_dB_valve\\\\valve\\\\\",\"0_dB_slider\\\\slider\\\\\",\"6_dB_slider\\\\slider\\\\\",\n",
    "          \"-6_dB_slider\\\\slider\\\\\",\"0_dB_pump\\\\pump\\\\\",\"6_dB_pump\\\\pump\\\\\",\"-6_dB_pump\\\\pump\\\\\"]\n",
    "id_no=[\"id_00\\\\\",\"id_02\\\\\",\"id_04\\\\\",\"id_06\\\\\"]\n",
    "output_tag=[\"0_dB_fan\\\\\",\"6_dB_fan\\\\\",\"-6_dB_fan\\\\\",\"0_dB_valve\\\\\",\"6_dB_valve\\\\\",\"-6_dB_valve\\\\\",\"0_dB_slider\\\\\",\n",
    "           \"6_dB_slider\\\\\",\"-6_dB_slider\\\\\",\"0_dB_pump\\\\\",\"6_dB_pump\\\\\",\"-6_dB_pump\\\\\",]\n",
    "direc_inp=[]\n",
    "for inp in input_tag:\n",
    "    for mac in id_no:\n",
    "        direc_inp.append(\"E:\\\\\"+inp+mac)\n",
    "direc_out=[]\n",
    "for out in output_tag:\n",
    "    for mac in id_no:\n",
    "        direc_out.append(\"F:\\\\GFCC\\\\\"+out+mac)"
   ]
  },
  {
   "cell_type": "code",
   "execution_count": 6,
   "id": "ac13b8e3",
   "metadata": {},
   "outputs": [
    {
     "name": "stdout",
     "output_type": "stream",
     "text": [
      "*********************************\n",
      "Iteration:47 for F:\\GFCC\\-6_dB_pump\\id_06\\\n",
      "*********************************\n"
     ]
    },
    {
     "name": "stderr",
     "output_type": "stream",
     "text": [
      "Processing: 100%|██████████| 1036/1036 [02:47<00:00,  6.20it/s]\n",
      "Processing: 100%|██████████| 102/102 [00:16<00:00,  6.09it/s]\n"
     ]
    }
   ],
   "source": [
    "k=47\n",
    "count=0\n",
    "for i in range(len(direc_out)-k):\n",
    "    print(\"*********************************\")\n",
    "    print(\"Iteration:{} for {}\".format(i+k,direc_out[i+k]))\n",
    "    print(\"*********************************\")\n",
    "    if count == 4:\n",
    "        break\n",
    "    read_sound_files_GFCC(direc_inp[i+k],direc_out[i+k])\n",
    "    count=count+1"
   ]
  }
 ],
 "metadata": {
  "kernelspec": {
   "display_name": "Python 3 (ipykernel)",
   "language": "python",
   "name": "python3"
  },
  "language_info": {
   "codemirror_mode": {
    "name": "ipython",
    "version": 3
   },
   "file_extension": ".py",
   "mimetype": "text/x-python",
   "name": "python",
   "nbconvert_exporter": "python",
   "pygments_lexer": "ipython3",
   "version": "3.10.13"
  }
 },
 "nbformat": 4,
 "nbformat_minor": 5
}
